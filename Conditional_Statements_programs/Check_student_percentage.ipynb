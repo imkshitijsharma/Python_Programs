{
 "cells": [
  {
   "cell_type": "markdown",
   "id": "8c35c7b8",
   "metadata": {},
   "source": [
    "# Program to check student percentage"
   ]
  },
  {
   "cell_type": "code",
   "execution_count": 10,
   "id": "7b24a384",
   "metadata": {},
   "outputs": [
    {
     "name": "stdout",
     "output_type": "stream",
     "text": [
      "Enter the number of total classes held=480\n",
      "Enter the number of classes attend=300\n",
      "Student percentage = 62.5\n",
      "Student not allowed to sit in exam\n"
     ]
    }
   ],
   "source": [
    "Cl_held = int(input(\"Enter the number of total classes held=\"))\n",
    "Cl_attend = int(input(\"Enter the number of classes attend=\"))\n",
    "per_cl_attend = (Cl_attend/Cl_held )* 100\n",
    "if per_cl_attend>=75:\n",
    "    print(\"Total percentage student got\",per_cl_attend)\n",
    "    print(\"Student is allowed to sit in exam\")\n",
    "    \n",
    "else:\n",
    "    print(\"Student percentage =\",per_cl_attend)\n",
    "    print(\"Student not allowed to sit in exam\")"
   ]
  },
  {
   "cell_type": "code",
   "execution_count": null,
   "id": "47e94243",
   "metadata": {},
   "outputs": [],
   "source": []
  }
 ],
 "metadata": {
  "kernelspec": {
   "display_name": "Python 3 (ipykernel)",
   "language": "python",
   "name": "python3"
  },
  "language_info": {
   "codemirror_mode": {
    "name": "ipython",
    "version": 3
   },
   "file_extension": ".py",
   "mimetype": "text/x-python",
   "name": "python",
   "nbconvert_exporter": "python",
   "pygments_lexer": "ipython3",
   "version": "3.9.13"
  }
 },
 "nbformat": 4,
 "nbformat_minor": 5
}
