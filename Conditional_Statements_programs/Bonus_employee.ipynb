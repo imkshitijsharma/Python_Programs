{
 "cells": [
  {
   "cell_type": "markdown",
   "id": "41986bba",
   "metadata": {},
   "source": [
    "# Program to get the net bonus to employee "
   ]
  },
  {
   "cell_type": "markdown",
   "id": "9ccd1cc1",
   "metadata": {},
   "source": [
    "employee get 5% bonus if his/her year of experience is more than 5:"
   ]
  },
  {
   "cell_type": "code",
   "execution_count": 5,
   "id": "a3b36f63",
   "metadata": {},
   "outputs": [
    {
     "name": "stdout",
     "output_type": "stream",
     "text": [
      "Enter the salary of employee =50000\n",
      "Enter the year of service =6\n",
      "Net bonus added = 2500.0\n",
      "Total salary = 52500.0\n"
     ]
    }
   ],
   "source": [
    "sal=int(input(\"Enter the salary of employee =\"))\n",
    "year=int(input(\"Enter the year of service =\"))\n",
    "if year>5:\n",
    "    bonus=sal*0.05\n",
    "    net_sal=sal+bonus\n",
    "    print(\"Net bonus added =\",bonus)\n",
    "    print(\"Total salary =\", net_sal)\n",
    "else:\n",
    "    print(\"Employee not able to get bonus\")"
   ]
  }
 ],
 "metadata": {
  "kernelspec": {
   "display_name": "Python 3 (ipykernel)",
   "language": "python",
   "name": "python3"
  },
  "language_info": {
   "codemirror_mode": {
    "name": "ipython",
    "version": 3
   },
   "file_extension": ".py",
   "mimetype": "text/x-python",
   "name": "python",
   "nbconvert_exporter": "python",
   "pygments_lexer": "ipython3",
   "version": "3.9.13"
  }
 },
 "nbformat": 4,
 "nbformat_minor": 5
}
