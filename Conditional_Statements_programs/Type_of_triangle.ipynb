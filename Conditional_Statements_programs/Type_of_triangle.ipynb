{
 "cells": [
  {
   "cell_type": "code",
   "execution_count": null,
   "id": "3cc2e0cb",
   "metadata": {},
   "outputs": [],
   "source": [
    "PROGRAM TO CHECK THE TYPE OF TRIANGLE :"
   ]
  },
  {
   "cell_type": "code",
   "execution_count": 10,
   "id": "e204967c",
   "metadata": {},
   "outputs": [
    {
     "name": "stdout",
     "output_type": "stream",
     "text": [
      "Enter the First side of the triangle=10\n",
      "Enter the Second side of the triangle=5\n",
      "Enter the Third side of the triangle=10\n",
      "The Triangle is Isosceles\n"
     ]
    }
   ],
   "source": [
    "S1 = int(input(\"Enter the First side of the triangle=\"))\n",
    "S2 = int(input(\"Enter the Second side of the triangle=\"))\n",
    "S3 = int(input(\"Enter the Third side of the triangle=\"))\n",
    "if S1==S2==S3:\n",
    "    print(\"The Triangle is Equilateral\")\n",
    "elif S1==S2 or S2==S3 or S1==S3:\n",
    "    print(\"The Triangle is Isosceles\")\n",
    "else:\n",
    "    print(\"The Triangle is scalene\")"
   ]
  }
 ],
 "metadata": {
  "kernelspec": {
   "display_name": "Python 3 (ipykernel)",
   "language": "python",
   "name": "python3"
  },
  "language_info": {
   "codemirror_mode": {
    "name": "ipython",
    "version": 3
   },
   "file_extension": ".py",
   "mimetype": "text/x-python",
   "name": "python",
   "nbconvert_exporter": "python",
   "pygments_lexer": "ipython3",
   "version": "3.9.13"
  }
 },
 "nbformat": 4,
 "nbformat_minor": 5
}
