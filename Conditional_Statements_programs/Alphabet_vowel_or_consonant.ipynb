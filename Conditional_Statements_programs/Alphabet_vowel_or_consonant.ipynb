{
 "cells": [
  {
   "cell_type": "markdown",
   "id": "1cf18fde",
   "metadata": {},
   "source": [
    "# CHECK ALPHABET IS VOWEL OR CONSONANT"
   ]
  },
  {
   "cell_type": "markdown",
   "id": "b0b7a1e4",
   "metadata": {},
   "source": [
    "THIS CODE IS ONLY FOR SINGLE ALPHABET ENTRY:"
   ]
  },
  {
   "cell_type": "code",
   "execution_count": 10,
   "id": "1748153f",
   "metadata": {},
   "outputs": [
    {
     "name": "stdout",
     "output_type": "stream",
     "text": [
      "Enter the alphabet=u\n",
      "Alphabet is vowel\n"
     ]
    }
   ],
   "source": [
    "alpha=str(input(\"Enter the alphabet=\"))\n",
    "alpha =alpha.lower()\n",
    "vowel ='aeiou'\n",
    "if vowel.find(alpha)==-1:\n",
    "    print(\"Alphabet is consonant\")    \n",
    "else:\n",
    "    print(\"Alphabet is vowel\")\n",
    "    "
   ]
  },
  {
   "cell_type": "code",
   "execution_count": null,
   "id": "6a0d0e6c",
   "metadata": {},
   "outputs": [],
   "source": []
  }
 ],
 "metadata": {
  "kernelspec": {
   "display_name": "Python 3 (ipykernel)",
   "language": "python",
   "name": "python3"
  },
  "language_info": {
   "codemirror_mode": {
    "name": "ipython",
    "version": 3
   },
   "file_extension": ".py",
   "mimetype": "text/x-python",
   "name": "python",
   "nbconvert_exporter": "python",
   "pygments_lexer": "ipython3",
   "version": "3.9.13"
  }
 },
 "nbformat": 4,
 "nbformat_minor": 5
}
