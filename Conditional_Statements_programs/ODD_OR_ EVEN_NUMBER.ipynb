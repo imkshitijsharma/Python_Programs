{
 "cells": [
  {
   "cell_type": "markdown",
   "id": "3f35b056",
   "metadata": {},
   "source": [
    "CHECK GIVEN NUMBER IS ODD OR EVEN "
   ]
  },
  {
   "cell_type": "code",
   "execution_count": 6,
   "id": "9efa61fb",
   "metadata": {},
   "outputs": [
    {
     "name": "stdout",
     "output_type": "stream",
     "text": [
      "Enter the number =12\n",
      "Number is Even\n"
     ]
    }
   ],
   "source": [
    "num = int(input(\"Enter the number =\"))\n",
    "if num%2==0:\n",
    "    print(\"Number is Even\")\n",
    "else:\n",
    "    print(\"Number is odd\")\n",
    "    "
   ]
  },
  {
   "cell_type": "code",
   "execution_count": null,
   "id": "a769f40b",
   "metadata": {},
   "outputs": [],
   "source": []
  }
 ],
 "metadata": {
  "kernelspec": {
   "display_name": "Python 3 (ipykernel)",
   "language": "python",
   "name": "python3"
  },
  "language_info": {
   "codemirror_mode": {
    "name": "ipython",
    "version": 3
   },
   "file_extension": ".py",
   "mimetype": "text/x-python",
   "name": "python",
   "nbconvert_exporter": "python",
   "pygments_lexer": "ipython3",
   "version": "3.9.13"
  }
 },
 "nbformat": 4,
 "nbformat_minor": 5
}
