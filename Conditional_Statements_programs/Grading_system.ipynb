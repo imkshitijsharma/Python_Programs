{
 "cells": [
  {
   "cell_type": "markdown",
   "id": "97ee3427",
   "metadata": {},
   "source": [
    "School Grading system :"
   ]
  },
  {
   "cell_type": "code",
   "execution_count": 7,
   "id": "c7bb992d",
   "metadata": {},
   "outputs": [
    {
     "name": "stdout",
     "output_type": "stream",
     "text": [
      "Enter the marks student get =67\n",
      "Student grade is B\n"
     ]
    }
   ],
   "source": [
    "m=int(input(\"Enter the marks student get =\"))\n",
    "if m <= 25:\n",
    "    print(\"Student grade is F\")\n",
    "elif m > 25 and m <= 45:\n",
    "    print(\"Student grade is E\")\n",
    "elif m > 45 and m <= 50:\n",
    "    print(\"Student grade is D\")\n",
    "elif m > 50 and m <= 60:\n",
    "    print(\"Student grade is C\")\n",
    "elif m > 60 and m <= 80:\n",
    "    print(\"Student grade is B\")\n",
    "else:\n",
    "    print(\"Student grade is A\")\n",
    "    "
   ]
  },
  {
   "cell_type": "code",
   "execution_count": null,
   "id": "9a80a5c8",
   "metadata": {},
   "outputs": [],
   "source": []
  }
 ],
 "metadata": {
  "kernelspec": {
   "display_name": "Python 3 (ipykernel)",
   "language": "python",
   "name": "python3"
  },
  "language_info": {
   "codemirror_mode": {
    "name": "ipython",
    "version": 3
   },
   "file_extension": ".py",
   "mimetype": "text/x-python",
   "name": "python",
   "nbconvert_exporter": "python",
   "pygments_lexer": "ipython3",
   "version": "3.9.13"
  }
 },
 "nbformat": 4,
 "nbformat_minor": 5
}
