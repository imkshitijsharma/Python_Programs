{
 "cells": [
  {
   "cell_type": "markdown",
   "id": "8bba55aa",
   "metadata": {},
   "source": [
    "# Program to print the greatest number among two numbers"
   ]
  },
  {
   "cell_type": "code",
   "execution_count": 1,
   "id": "ff61d1b9",
   "metadata": {},
   "outputs": [
    {
     "name": "stdout",
     "output_type": "stream",
     "text": [
      "Enter first number=7\n",
      "Enter second number=5\n",
      "First number is greater= 7\n"
     ]
    }
   ],
   "source": [
    "numb1 = int(input(\"Enter first number=\"))\n",
    "numb2 = int(input(\"Enter second number=\"))\n",
    "if numb1 > numb2:\n",
    "    print(\"First number is greater=\",numb1)\n",
    "    \n",
    "elif numb2 > numb1:\n",
    "    print(\"Second number is greater=\",numb2)\n",
    "    \n",
    "else:\n",
    "    print(\"Numbers are equal\")"
   ]
  },
  {
   "cell_type": "markdown",
   "id": "2caba4d7",
   "metadata": {},
   "source": [
    "# Program to print the greatest number from three numbers"
   ]
  },
  {
   "cell_type": "markdown",
   "id": "45d70255",
   "metadata": {},
   "source": [
    "IF NUMBERS ARE NOT SIMLIAR:"
   ]
  },
  {
   "cell_type": "code",
   "execution_count": 2,
   "id": "27e5223a",
   "metadata": {},
   "outputs": [
    {
     "name": "stdout",
     "output_type": "stream",
     "text": [
      "Enter first number=5\n",
      "Enter second number=2\n",
      "Enter third number=4\n",
      "First number is greater= 5\n"
     ]
    }
   ],
   "source": [
    "numb1 = int(input(\"Enter first number=\"))\n",
    "numb2 = int(input(\"Enter second number=\"))\n",
    "numb3 = int(input(\"Enter third number=\"))\n",
    "if numb1 > numb2 and numb1 > numb3:\n",
    "    print(\"First number is greater=\",numb1)\n",
    "    \n",
    "elif numb2 > numb1 and numb2 >numb3:\n",
    "    print(\"Second number is greater=\",numb2)\n",
    "    \n",
    "elif numb3 > numb2 and numb3 >numb1:\n",
    "    print(\"Third Number is greater=\",numb3)\n",
    "else :\n",
    "    print(\"Enter unsimiliar number\")"
   ]
  },
  {
   "cell_type": "code",
   "execution_count": null,
   "id": "37d25810",
   "metadata": {},
   "outputs": [],
   "source": [
    "IF TWO NUMBERS ARE EQUAL THAN:"
   ]
  },
  {
   "cell_type": "code",
   "execution_count": 3,
   "id": "3d472e07",
   "metadata": {},
   "outputs": [
    {
     "name": "stdout",
     "output_type": "stream",
     "text": [
      "Enter first number=7\n",
      "Enter second number=5\n",
      "Enter third number=5\n",
      "First number is greater= 7\n"
     ]
    }
   ],
   "source": [
    "numb1 = int(input(\"Enter first number=\"))\n",
    "numb2 = int(input(\"Enter second number=\"))\n",
    "numb3 = int(input(\"Enter third number=\"))\n",
    "if numb1 > numb2 and numb1 > numb3:\n",
    "    print(\"First number is greater=\",numb1)\n",
    "    \n",
    "elif numb2 > numb1 and numb2 >numb3:\n",
    "    print(\"Second number is greater=\",numb2)\n",
    "    \n",
    "elif numb3 > numb2 and numb3 >numb1:\n",
    "    print(\"Third Number is greater=\",numb3)\n",
    "elif numb3==numb1 or numb3  ==numb2 or numb2==numb1 or numb2==numb3 or numb1==numb2 or numb1==numb3:\n",
    "    print(\"Two larger numbers are equal ERROR!\")\n",
    "else :\n",
    "    print(\"enter correct number\")"
   ]
  },
  {
   "cell_type": "code",
   "execution_count": null,
   "id": "509124b5",
   "metadata": {},
   "outputs": [],
   "source": []
  }
 ],
 "metadata": {
  "kernelspec": {
   "display_name": "Python 3 (ipykernel)",
   "language": "python",
   "name": "python3"
  },
  "language_info": {
   "codemirror_mode": {
    "name": "ipython",
    "version": 3
   },
   "file_extension": ".py",
   "mimetype": "text/x-python",
   "name": "python",
   "nbconvert_exporter": "python",
   "pygments_lexer": "ipython3",
   "version": "3.9.13"
  }
 },
 "nbformat": 4,
 "nbformat_minor": 5
}
