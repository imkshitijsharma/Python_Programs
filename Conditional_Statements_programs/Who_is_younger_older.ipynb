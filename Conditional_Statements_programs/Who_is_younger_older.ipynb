{
 "cells": [
  {
   "cell_type": "markdown",
   "id": "1bc36e8b",
   "metadata": {},
   "source": [
    "# PROGRAM TO CHECK FROM 3 PEOPLE WHO IS YOUNGER AND OLDER"
   ]
  },
  {
   "cell_type": "code",
   "execution_count": 6,
   "id": "977548f9",
   "metadata": {},
   "outputs": [
    {
     "name": "stdout",
     "output_type": "stream",
     "text": [
      "Enter the age of first person=64\n",
      "Enter the age of second person=25\n",
      "Enter the age of third person=35\n",
      "First person is the oldest \n",
      "Second person is the youngest\n"
     ]
    }
   ],
   "source": [
    "p1=int(input(\"Enter the age of first person=\"))\n",
    "p2=int(input(\"Enter the age of second person=\"))\n",
    "p3=int(input(\"Enter the age of third person=\"))\n",
    "if p1>p2 and p1>p3:\n",
    "    print(\"First person is the oldest \")\n",
    "    if p2<p3:\n",
    "        print(\"Second person is the youngest\")\n",
    "    else:\n",
    "        print(\"Third person is the youngest\")\n",
    "elif p2>p1 and p2>p3:\n",
    "    print(\"Second person is the oldest\")\n",
    "    if p1<p3:\n",
    "        print(\"First person is the youngest\")\n",
    "    else:\n",
    "        print(\"Third person is the youngest\")\n",
    "elif p3>p1 and p3>p2:\n",
    "    print(\"Third person is the oldest\")\n",
    "    if p1<p2:\n",
    "        print(\"First person is the youngest\")\n",
    "    else:\n",
    "        print(\"Second person is the youngest\")"
   ]
  },
  {
   "cell_type": "code",
   "execution_count": null,
   "id": "ddeb4ddd",
   "metadata": {},
   "outputs": [],
   "source": []
  }
 ],
 "metadata": {
  "kernelspec": {
   "display_name": "Python 3 (ipykernel)",
   "language": "python",
   "name": "python3"
  },
  "language_info": {
   "codemirror_mode": {
    "name": "ipython",
    "version": 3
   },
   "file_extension": ".py",
   "mimetype": "text/x-python",
   "name": "python",
   "nbconvert_exporter": "python",
   "pygments_lexer": "ipython3",
   "version": "3.9.13"
  }
 },
 "nbformat": 4,
 "nbformat_minor": 5
}
