{
 "cells": [
  {
   "cell_type": "markdown",
   "id": "432e1872",
   "metadata": {},
   "source": [
    "# PROGRAM TO CHECK RECTANGLE IS SQUARE OR NOT "
   ]
  },
  {
   "cell_type": "code",
   "execution_count": 5,
   "id": "b747ad66",
   "metadata": {},
   "outputs": [
    {
     "name": "stdout",
     "output_type": "stream",
     "text": [
      "Enter the length of rectangle=5\n",
      "Enter the breadth of rectangle=5\n",
      "Rectangle is square\n"
     ]
    }
   ],
   "source": [
    "l=int(input(\"Enter the length of rectangle=\"))\n",
    "b=int(input(\"Enter the breadth of rectangle=\"))\n",
    "if l==b:\n",
    "    print(\"Rectangle is square\")\n",
    "else:\n",
    "    print(\"Its a rectangle\")"
   ]
  },
  {
   "cell_type": "code",
   "execution_count": 6,
   "id": "e24b0d69",
   "metadata": {},
   "outputs": [
    {
     "name": "stdout",
     "output_type": "stream",
     "text": [
      "Enter the length of rectangle=10\n",
      "Enter the breadth of rectangle=15\n",
      "Its a rectangle\n"
     ]
    }
   ],
   "source": [
    "l=int(input(\"Enter the length of rectangle=\"))\n",
    "b=int(input(\"Enter the breadth of rectangle=\"))\n",
    "if l==b:\n",
    "    print(\"Rectangle is square\")\n",
    "else:\n",
    "    print(\"Its a rectangle\")"
   ]
  },
  {
   "cell_type": "code",
   "execution_count": null,
   "id": "befa45bd",
   "metadata": {},
   "outputs": [],
   "source": []
  }
 ],
 "metadata": {
  "kernelspec": {
   "display_name": "Python 3 (ipykernel)",
   "language": "python",
   "name": "python3"
  },
  "language_info": {
   "codemirror_mode": {
    "name": "ipython",
    "version": 3
   },
   "file_extension": ".py",
   "mimetype": "text/x-python",
   "name": "python",
   "nbconvert_exporter": "python",
   "pygments_lexer": "ipython3",
   "version": "3.9.13"
  }
 },
 "nbformat": 4,
 "nbformat_minor": 5
}
