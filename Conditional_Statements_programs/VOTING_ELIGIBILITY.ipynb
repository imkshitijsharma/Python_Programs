{
 "cells": [
  {
   "cell_type": "markdown",
   "id": "b000a6da",
   "metadata": {},
   "source": [
    "PROGRAM TO CHECK PERSON IS ELIGIBLE TO VOTE\n"
   ]
  },
  {
   "cell_type": "code",
   "execution_count": 5,
   "id": "bae5b04f",
   "metadata": {},
   "outputs": [
    {
     "name": "stdout",
     "output_type": "stream",
     "text": [
      "Enter the age of the person =18\n",
      "Person is eligible to vote \n"
     ]
    }
   ],
   "source": [
    "Age=int(input(\"Enter the age of the person =\"))\n",
    "if Age>=18:\n",
    "    print(\"Person is eligible to vote \")\n",
    "else:\n",
    "    print(\"Sorry! you are not eligible to vote\")"
   ]
  },
  {
   "cell_type": "code",
   "execution_count": null,
   "id": "bf90ea46",
   "metadata": {},
   "outputs": [],
   "source": []
  }
 ],
 "metadata": {
  "kernelspec": {
   "display_name": "Python 3 (ipykernel)",
   "language": "python",
   "name": "python3"
  },
  "language_info": {
   "codemirror_mode": {
    "name": "ipython",
    "version": 3
   },
   "file_extension": ".py",
   "mimetype": "text/x-python",
   "name": "python",
   "nbconvert_exporter": "python",
   "pygments_lexer": "ipython3",
   "version": "3.9.13"
  }
 },
 "nbformat": 4,
 "nbformat_minor": 5
}
