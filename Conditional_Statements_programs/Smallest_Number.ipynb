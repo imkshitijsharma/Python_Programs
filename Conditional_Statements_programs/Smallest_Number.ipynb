{
 "cells": [
  {
   "cell_type": "markdown",
   "id": "0633cc57",
   "metadata": {},
   "source": [
    "# Program to print the smallest number among two numbers"
   ]
  },
  {
   "cell_type": "code",
   "execution_count": 1,
   "id": "cbccc2ec",
   "metadata": {},
   "outputs": [
    {
     "name": "stdout",
     "output_type": "stream",
     "text": [
      "Enter first number=5\n",
      "Enter second number=2\n",
      "Second number is smaller= 2\n"
     ]
    }
   ],
   "source": [
    "numb1 = int(input(\"Enter first number=\"))\n",
    "numb2 = int(input(\"Enter second number=\"))\n",
    "if numb1 < numb2:\n",
    "    print(\"First number is smaller=\",numb1)\n",
    "    \n",
    "elif numb2 < numb1:\n",
    "    print(\"Second number is smaller=\",numb2)\n",
    "    \n",
    "else:\n",
    "    print(\"Numbers are equal\")\n"
   ]
  },
  {
   "cell_type": "markdown",
   "id": "e52ace6b",
   "metadata": {},
   "source": [
    "# Program to print the Smallest  number from three numbers"
   ]
  },
  {
   "cell_type": "markdown",
   "id": "f60fb896",
   "metadata": {},
   "source": [
    "IF NUMBERS ARE NOT SIMLIAR:"
   ]
  },
  {
   "cell_type": "code",
   "execution_count": 4,
   "id": "4a0ef944",
   "metadata": {},
   "outputs": [
    {
     "name": "stdout",
     "output_type": "stream",
     "text": [
      "Enter first number=4\n",
      "Enter second number=7\n",
      "Enter third number=9\n",
      "First number is Smallest= 4\n"
     ]
    }
   ],
   "source": [
    "numb1 = int(input(\"Enter first number=\"))\n",
    "numb2 = int(input(\"Enter second number=\"))\n",
    "numb3 = int(input(\"Enter third number=\"))\n",
    "if numb1 < numb2 and numb1 < numb3:\n",
    "    print(\"First number is Smallest=\",numb1)\n",
    "    \n",
    "elif numb2 < numb1 and numb2 < numb3:\n",
    "    print(\"Second number is Smallest=\",numb2)\n",
    "    \n",
    "elif numb3 < numb2 and numb3 < numb1:\n",
    "    print(\"Third Number is Smallest=\",numb3)\n",
    "else :\n",
    "    print(\"Enter unsimiliar number\")"
   ]
  },
  {
   "cell_type": "markdown",
   "id": "d239328d",
   "metadata": {},
   "source": [
    "IF TWO NUMBERS ARE EQUAL THAN:"
   ]
  },
  {
   "cell_type": "code",
   "execution_count": 3,
   "id": "2b6c5ce2",
   "metadata": {},
   "outputs": [
    {
     "name": "stdout",
     "output_type": "stream",
     "text": [
      "Enter first number=5\n",
      "Enter second number=7\n",
      "Enter third number=7\n",
      "First number is Smallest= 5\n"
     ]
    }
   ],
   "source": [
    "numb1 = int(input(\"Enter first number=\"))\n",
    "numb2 = int(input(\"Enter second number=\"))\n",
    "numb3 = int(input(\"Enter third number=\"))\n",
    "if numb1 < numb2 and numb1 < numb3:\n",
    "    print(\"First number is the Smallest=\",numb1)\n",
    "    \n",
    "elif numb2 < numb1 and numb2 < numb3:\n",
    "    print(\"Second number is the Smallest=\",numb2)\n",
    "    \n",
    "elif numb3 < numb2 and numb3 < numb1:\n",
    "    print(\"Third Number is the Smallest=\",numb3)\n",
    "elif numb3==numb1 or numb3  ==numb2 or numb2==numb1 or numb2==numb3 or numb1==numb2 or numb1==numb3:\n",
    "    print(\"two or more Smaller numbers are equal\")\n",
    "else :\n",
    "    print(\"enter correct number\")\n"
   ]
  }
 ],
 "metadata": {
  "kernelspec": {
   "display_name": "Python 3 (ipykernel)",
   "language": "python",
   "name": "python3"
  },
  "language_info": {
   "codemirror_mode": {
    "name": "ipython",
    "version": 3
   },
   "file_extension": ".py",
   "mimetype": "text/x-python",
   "name": "python",
   "nbconvert_exporter": "python",
   "pygments_lexer": "ipython3",
   "version": "3.9.13"
  }
 },
 "nbformat": 4,
 "nbformat_minor": 5
}
