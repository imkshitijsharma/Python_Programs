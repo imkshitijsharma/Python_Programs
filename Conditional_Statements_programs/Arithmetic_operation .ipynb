{
 "cells": [
  {
   "cell_type": "code",
   "execution_count": 3,
   "id": "063ba832",
   "metadata": {},
   "outputs": [
    {
     "name": "stdout",
     "output_type": "stream",
     "text": [
      "Enter number Between 1 to 4\n",
      "1.Addition\n",
      "2.Subtraction\n",
      "3.Multiplication\n",
      "4.Division\n",
      "Enter the number to perform task=4\n",
      "Enter the value of First number(larger number)=15\n",
      "Enter the value of second number=6\n",
      "Division of numbers = 2.5\n"
     ]
    }
   ],
   "source": [
    "print(\"Enter number Between 1 to 4\")\n",
    "print(\"1.Addition\\n2.Subtraction\\n3.Multiplication\\n4.Division\")\n",
    "num=int(input(\"Enter the number to perform task=\"))\n",
    "num1=int(input(\"Enter the value of First number(larger number)=\"))\n",
    "num2=int(input(\"Enter the value of second number=\"))\n",
    "if num==1:\n",
    "    add=num1+num2\n",
    "    print(\"Addition of numbers =\",add)\n",
    "elif num==2:\n",
    "    sub=num1-num2\n",
    "    print(\"Subtraction of numbers =\",sub)\n",
    "elif num==3:\n",
    "    mul=num1*num2\n",
    "    print(\"Multiplication of numbers =\",mul)\n",
    "elif num==4:\n",
    "    div=num1/num2\n",
    "    print(\"Division of numbers =\",div)\n",
    "else:\n",
    "    print(\"Enter the number between 1 to 4 \")"
   ]
  },
  {
   "cell_type": "code",
   "execution_count": null,
   "id": "1fa6d205",
   "metadata": {},
   "outputs": [],
   "source": []
  }
 ],
 "metadata": {
  "kernelspec": {
   "display_name": "Python 3 (ipykernel)",
   "language": "python",
   "name": "python3"
  },
  "language_info": {
   "codemirror_mode": {
    "name": "ipython",
    "version": 3
   },
   "file_extension": ".py",
   "mimetype": "text/x-python",
   "name": "python",
   "nbconvert_exporter": "python",
   "pygments_lexer": "ipython3",
   "version": "3.9.13"
  }
 },
 "nbformat": 4,
 "nbformat_minor": 5
}
