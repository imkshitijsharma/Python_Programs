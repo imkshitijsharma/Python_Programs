{
 "cells": [
  {
   "cell_type": "markdown",
   "id": "762d8e25",
   "metadata": {},
   "source": [
    "# PROGRAM TO CHECK SELLING PRODUCT IS LOSS OR PROFIT"
   ]
  },
  {
   "cell_type": "markdown",
   "id": "d162acb6",
   "metadata": {},
   "source": [
    "By intializing variable as int"
   ]
  },
  {
   "cell_type": "code",
   "execution_count": 12,
   "id": "559d79c1",
   "metadata": {},
   "outputs": [
    {
     "name": "stdout",
     "output_type": "stream",
     "text": [
      "Enter the cost price of product25\n",
      "Enter the selling price of product30\n",
      "You are in profit of = 5\n"
     ]
    }
   ],
   "source": [
    "cp = int(input(\"Enter the cost price of product\"))\n",
    "sp =int(input(\"Enter the selling price of product\"))\n",
    "if cp>sp:\n",
    "    result=round(cp-sp,5)\n",
    "    print(\"You are in loss of =\",result)\n",
    "elif sp>cp:\n",
    "    result=sp-cp\n",
    "    print(\"You are in profit of =\",result)\n",
    "else:\n",
    "    print(\"NO loss /NO profit\")"
   ]
  },
  {
   "cell_type": "markdown",
   "id": "5d374c2e",
   "metadata": {},
   "source": [
    "By intializing variable as float"
   ]
  },
  {
   "cell_type": "code",
   "execution_count": 11,
   "id": "e2de090f",
   "metadata": {
    "scrolled": true
   },
   "outputs": [
    {
     "name": "stdout",
     "output_type": "stream",
     "text": [
      "Enter the cost price of product66.58\n",
      "Enter the selling price of product48.259\n",
      "You are in loss of = 18.320999999999998\n"
     ]
    }
   ],
   "source": [
    "cp = float(input(\"Enter the cost price of product\"))\n",
    "sp =float(input(\"Enter the selling price of product\"))\n",
    "if cp>sp:\n",
    "    result=cp-sp\n",
    "    print(\"You are in loss of =\",result)\n",
    "elif sp>cp:\n",
    "    result=sp-cp\n",
    "    print(\"You are in profit of =\",result)\n",
    "else:\n",
    "    print(\"NO loss /NO profit\")"
   ]
  },
  {
   "cell_type": "markdown",
   "id": "bf23a2cd",
   "metadata": {},
   "source": [
    "By using round() function "
   ]
  },
  {
   "cell_type": "code",
   "execution_count": 16,
   "id": "7337865c",
   "metadata": {},
   "outputs": [
    {
     "name": "stdout",
     "output_type": "stream",
     "text": [
      "Enter the cost price of product=98.252665\n",
      "Enter the selling price of product=115.654\n",
      "You are in profit of = 17.4\n"
     ]
    }
   ],
   "source": [
    "cp = float(input(\"Enter the cost price of product=\"))\n",
    "sp =float(input(\"Enter the selling price of product=\"))\n",
    "if cp>sp:\n",
    "    result=round(cp-sp,2)\n",
    "    print(\"You are in loss of =\",result)\n",
    "elif sp>cp:\n",
    "    result=round(sp-cp,2)\n",
    "    print(\"You are in profit of =\",result)\n",
    "else:\n",
    "    print(\"NO loss /NO profit\")"
   ]
  },
  {
   "cell_type": "code",
   "execution_count": null,
   "id": "d36091c3",
   "metadata": {},
   "outputs": [],
   "source": []
  }
 ],
 "metadata": {
  "kernelspec": {
   "display_name": "Python 3 (ipykernel)",
   "language": "python",
   "name": "python3"
  },
  "language_info": {
   "codemirror_mode": {
    "name": "ipython",
    "version": 3
   },
   "file_extension": ".py",
   "mimetype": "text/x-python",
   "name": "python",
   "nbconvert_exporter": "python",
   "pygments_lexer": "ipython3",
   "version": "3.9.13"
  }
 },
 "nbformat": 4,
 "nbformat_minor": 5
}
