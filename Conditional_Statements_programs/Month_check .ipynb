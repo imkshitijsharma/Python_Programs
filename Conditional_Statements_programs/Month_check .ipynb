{
 "cells": [
  {
   "cell_type": "markdown",
   "id": "ce610a2d",
   "metadata": {},
   "source": [
    "PROGRAM TO PRINT THE RESPECTIVE MONTH WITH INPUT"
   ]
  },
  {
   "cell_type": "code",
   "execution_count": 8,
   "id": "6c18f6d4",
   "metadata": {},
   "outputs": [
    {
     "name": "stdout",
     "output_type": "stream",
     "text": [
      "Enter the number =5\n",
      "The Month is May\n"
     ]
    }
   ],
   "source": [
    "num=int(input(\"Enter the number =\"))\n",
    "if num==1:\n",
    "    print(\"The Month is January\")\n",
    "elif num==2:\n",
    "    print(\"The Month is Febuary\")\n",
    "elif num==3:\n",
    "    print(\"The Month is March\")\n",
    "elif num==4:\n",
    "    print(\"The Month is April\")\n",
    "elif num==5:\n",
    "    print(\"The Month is May\")\n",
    "elif num==6:\n",
    "    print(\"The Month is June\")\n",
    "elif num==7:\n",
    "    print(\"The Month is July\")\n",
    "elif num==8:\n",
    "    print(\"The Month is August\")\n",
    "elif num==9:\n",
    "    print(\"The Month is September\")\n",
    "elif num==10:\n",
    "    print(\"The Month is October\")\n",
    "elif num==11:\n",
    "    print(\"The Month is November\")\n",
    "elif num==12:\n",
    "    print(\"The Month is December\")\n",
    "else:\n",
    "    print(\"Enter the number between 1 to 12\")"
   ]
  },
  {
   "cell_type": "code",
   "execution_count": null,
   "id": "988fc74b",
   "metadata": {},
   "outputs": [],
   "source": []
  }
 ],
 "metadata": {
  "kernelspec": {
   "display_name": "Python 3 (ipykernel)",
   "language": "python",
   "name": "python3"
  },
  "language_info": {
   "codemirror_mode": {
    "name": "ipython",
    "version": 3
   },
   "file_extension": ".py",
   "mimetype": "text/x-python",
   "name": "python",
   "nbconvert_exporter": "python",
   "pygments_lexer": "ipython3",
   "version": "3.9.13"
  }
 },
 "nbformat": 4,
 "nbformat_minor": 5
}
