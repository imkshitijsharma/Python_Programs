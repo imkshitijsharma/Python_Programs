{
 "cells": [
  {
   "cell_type": "markdown",
   "id": "956aa9bc",
   "metadata": {},
   "source": [
    "PROGRAM TO CONVERT TEMPERATURE BY USER INPUT :"
   ]
  },
  {
   "cell_type": "code",
   "execution_count": 12,
   "id": "ee7be3a9",
   "metadata": {},
   "outputs": [
    {
     "name": "stdout",
     "output_type": "stream",
     "text": [
      "Enter the input number to perform task \n",
      "1.Fahrenheit to celsius conversion\n",
      "2.Celsius to farenheit conversion\n",
      "Enter the input number to perform task =1\n",
      "Enter temperature value that is in Fahrenheit57.20\n",
      "Temperature in celsius = 14.0\n"
     ]
    }
   ],
   "source": [
    "print(\"Enter the input number to perform task \")\n",
    "print(\"1.Fahrenheit to celsius conversion\\n2.Celsius to farenheit conversion\")\n",
    "num=int(input(\"Enter the input number to perform task =\"))\n",
    "if num==1:\n",
    "    temp =float(input(\"Enter temperature value that is in Fahrenheit\"))\n",
    "    result=(temp-32)//1.800\n",
    "    print(\"Temperature in celsius =\",result)\n",
    "elif num==2:\n",
    "    temp2=float(input(\"Enter temperature value that is in Celsius\"))\n",
    "    result=temp2*1.800+32\n",
    "    print(\"Temperatur in fahrenheit=\",result)\n",
    "else:\n",
    "    print(\"Enter value 1 and 2 only\")\n"
   ]
  }
 ],
 "metadata": {
  "kernelspec": {
   "display_name": "Python 3 (ipykernel)",
   "language": "python",
   "name": "python3"
  },
  "language_info": {
   "codemirror_mode": {
    "name": "ipython",
    "version": 3
   },
   "file_extension": ".py",
   "mimetype": "text/x-python",
   "name": "python",
   "nbconvert_exporter": "python",
   "pygments_lexer": "ipython3",
   "version": "3.9.13"
  }
 },
 "nbformat": 4,
 "nbformat_minor": 5
}
