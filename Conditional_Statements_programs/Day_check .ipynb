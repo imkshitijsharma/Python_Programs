{
 "cells": [
  {
   "cell_type": "markdown",
   "id": "9629315b",
   "metadata": {},
   "source": [
    "PROGRAM TO PRINT THE RESPECTIVE DAY WITH INPUT"
   ]
  },
  {
   "cell_type": "code",
   "execution_count": 7,
   "id": "20b44f63",
   "metadata": {},
   "outputs": [
    {
     "name": "stdout",
     "output_type": "stream",
     "text": [
      "Enter the number =4\n",
      "The day is Thursday\n"
     ]
    }
   ],
   "source": [
    "num=int(input(\"Enter the number =\"))\n",
    "if num==1:\n",
    "    print(\"The day is Monday\")\n",
    "elif num==2:\n",
    "    print(\"The day is Tuesday\")\n",
    "elif num==3:\n",
    "    print(\"The day is Wednesday\")\n",
    "elif num==4:\n",
    "    print(\"The day is Thursday\")\n",
    "elif num==5:\n",
    "    print(\"The day is Friday\")\n",
    "elif num==6:\n",
    "    print(\"The day is Saturday\")\n",
    "elif num==7:\n",
    "    print(\"The day is Sunday\")\n",
    "else:\n",
    "    print(\"Enter the number between 1 to 7\")"
   ]
  }
 ],
 "metadata": {
  "kernelspec": {
   "display_name": "Python 3 (ipykernel)",
   "language": "python",
   "name": "python3"
  },
  "language_info": {
   "codemirror_mode": {
    "name": "ipython",
    "version": 3
   },
   "file_extension": ".py",
   "mimetype": "text/x-python",
   "name": "python",
   "nbconvert_exporter": "python",
   "pygments_lexer": "ipython3",
   "version": "3.9.13"
  }
 },
 "nbformat": 4,
 "nbformat_minor": 5
}
