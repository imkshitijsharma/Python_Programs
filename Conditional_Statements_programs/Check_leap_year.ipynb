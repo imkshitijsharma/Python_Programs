{
 "cells": [
  {
   "cell_type": "code",
   "execution_count": null,
   "id": "bb4d8473",
   "metadata": {},
   "outputs": [],
   "source": [
    "PROGRAM TO CHECK GIVEN YEAR IS A LEAP YEAR OR NOT :"
   ]
  },
  {
   "cell_type": "code",
   "execution_count": 34,
   "id": "646c27ca",
   "metadata": {},
   "outputs": [
    {
     "name": "stdout",
     "output_type": "stream",
     "text": [
      "Enter the year to check =2024\n",
      "Enter year is a leap year\n"
     ]
    }
   ],
   "source": [
    "year = int(input(\"Enter the year to check =\"))\n",
    "if year%4 == 0 and year%100 != 0 or year%400 == 0: #year%4 == 0 and year%100 != 0 condition 1 or year%400 == 0:condition 2\n",
    "    print(\"Enter year is a leap year\")             #if any of the 2 condition is true than it print leap year \n",
    "else:\n",
    "    print(\"Given year is not a leap year\")"
   ]
  },
  {
   "cell_type": "code",
   "execution_count": null,
   "id": "0354c121",
   "metadata": {},
   "outputs": [],
   "source": []
  }
 ],
 "metadata": {
  "kernelspec": {
   "display_name": "Python 3 (ipykernel)",
   "language": "python",
   "name": "python3"
  },
  "language_info": {
   "codemirror_mode": {
    "name": "ipython",
    "version": 3
   },
   "file_extension": ".py",
   "mimetype": "text/x-python",
   "name": "python",
   "nbconvert_exporter": "python",
   "pygments_lexer": "ipython3",
   "version": "3.9.13"
  }
 },
 "nbformat": 4,
 "nbformat_minor": 5
}
