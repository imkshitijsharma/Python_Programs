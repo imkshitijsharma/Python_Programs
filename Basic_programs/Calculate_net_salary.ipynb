{
 "cells": [
  {
   "cell_type": "markdown",
   "id": "456f8bb7",
   "metadata": {},
   "source": [
    "CALCULATE EMPLOYEE NET SALARY "
   ]
  },
  {
   "cell_type": "code",
   "execution_count": 3,
   "id": "34d09ea6",
   "metadata": {},
   "outputs": [
    {
     "name": "stdout",
     "output_type": "stream",
     "text": [
      "Enter the basic salary =52000\n",
      "2600.0\n",
      "3640.0\n",
      "1560.0\n",
      "Net salary of employee 44200.0\n"
     ]
    }
   ],
   "source": [
    "sal = float(input(\"Enter the basic salary =\"))\n",
    "DA = (sal/100)*5                      ## we have to calculate 5% from salary so we take sal/100 \n",
    "HRA = (sal/100)*7\n",
    "PF= (sal/100)*3\n",
    "net_sal = sal -(DA+HRA+PF)            ## by subtracting salary from DA,HRA,PF we get net salary \n",
    "print(\"Net salary of employee\",net_sal)"
   ]
  },
  {
   "cell_type": "code",
   "execution_count": null,
   "id": "09df0189",
   "metadata": {},
   "outputs": [],
   "source": []
  }
 ],
 "metadata": {
  "kernelspec": {
   "display_name": "Python 3 (ipykernel)",
   "language": "python",
   "name": "python3"
  },
  "language_info": {
   "codemirror_mode": {
    "name": "ipython",
    "version": 3
   },
   "file_extension": ".py",
   "mimetype": "text/x-python",
   "name": "python",
   "nbconvert_exporter": "python",
   "pygments_lexer": "ipython3",
   "version": "3.9.13"
  }
 },
 "nbformat": 4,
 "nbformat_minor": 5
}
