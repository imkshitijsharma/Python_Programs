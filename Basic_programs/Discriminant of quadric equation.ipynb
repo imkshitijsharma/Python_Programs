{
 "cells": [
  {
   "cell_type": "markdown",
   "id": "92b696d1",
   "metadata": {},
   "source": [
    "# To calculate discriminant of quadric equation"
   ]
  },
  {
   "cell_type": "code",
   "execution_count": 3,
   "id": "949534b7",
   "metadata": {},
   "outputs": [
    {
     "name": "stdout",
     "output_type": "stream",
     "text": [
      "Enter the value of a from ax^2+bx+c=0 equation = 8\n",
      "Enter the value of a from ax^2+bx+c=0 equation = 4\n",
      "Enter the value of a from ax^2+bx+c=0 equation = 2\n",
      "Discriminant of quadric equation = -48.0\n"
     ]
    }
   ],
   "source": [
    "a = float(input(\"Enter the value of a from ax^2+bx+c=0 equation = \"))\n",
    "b = float(input(\"Enter the value of a from ax^2+bx+c=0 equation = \"))\n",
    "c = float(input(\"Enter the value of a from ax^2+bx+c=0 equation = \"))\n",
    "disc = b**2 - 4*a*c   # we know that D=b^2-4ac from ax^2+bx+c=0\n",
    "print(\"Discriminant of quadric equation =\",disc)"
   ]
  },
  {
   "cell_type": "code",
   "execution_count": null,
   "id": "277a0fd5",
   "metadata": {},
   "outputs": [],
   "source": []
  }
 ],
 "metadata": {
  "kernelspec": {
   "display_name": "Python 3 (ipykernel)",
   "language": "python",
   "name": "python3"
  },
  "language_info": {
   "codemirror_mode": {
    "name": "ipython",
    "version": 3
   },
   "file_extension": ".py",
   "mimetype": "text/x-python",
   "name": "python",
   "nbconvert_exporter": "python",
   "pygments_lexer": "ipython3",
   "version": "3.9.13"
  }
 },
 "nbformat": 4,
 "nbformat_minor": 5
}
