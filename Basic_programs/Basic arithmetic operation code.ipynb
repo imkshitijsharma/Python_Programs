{
 "cells": [
  {
   "cell_type": "markdown",
   "id": "3d48ff50",
   "metadata": {},
   "source": [
    "# ARITHMETIC OPERATIONS:"
   ]
  },
  {
   "cell_type": "markdown",
   "id": "05367d65",
   "metadata": {},
   "source": [
    "BY user input of two numbers "
   ]
  },
  {
   "cell_type": "code",
   "execution_count": 3,
   "id": "6fd5a219",
   "metadata": {},
   "outputs": [
    {
     "name": "stdout",
     "output_type": "stream",
     "text": [
      "Enter the first number2.5\n",
      "Enter the second number0.5\n",
      "sum of the numbers = 3.0\n",
      "Difference in numbers = 2.0\n",
      "multiplication of numbers = 1.25\n",
      "division of numbers = 5.0\n",
      "modulus of numbers = 0.0\n",
      "exponent of numbers= 1.5811388300841898\n"
     ]
    }
   ],
   "source": [
    "num1 = float(input(\"Enter the first number\"))               \n",
    "num2 = float(input(\"Enter the second number\")) \n",
    "if num1>0 and num2>0:\n",
    "    print(\"sum of the numbers =\",num1 + num2)\n",
    "    print(\"Difference in numbers =\",num1 - num2)\n",
    "    print(\"multiplication of numbers =\",num1*num2)\n",
    "    print(\"division of numbers =\",num1/num2)\n",
    "    print(\"modulus of numbers =\",num1%num2)\n",
    "    print(\"exponent of numbers=\",num1**num2)\n",
    "else:\n",
    "    print(\"Enter number greater than zero \")"
   ]
  },
  {
   "cell_type": "code",
   "execution_count": null,
   "id": "9b45f10b",
   "metadata": {},
   "outputs": [],
   "source": []
  }
 ],
 "metadata": {
  "kernelspec": {
   "display_name": "Python 3 (ipykernel)",
   "language": "python",
   "name": "python3"
  },
  "language_info": {
   "codemirror_mode": {
    "name": "ipython",
    "version": 3
   },
   "file_extension": ".py",
   "mimetype": "text/x-python",
   "name": "python",
   "nbconvert_exporter": "python",
   "pygments_lexer": "ipython3",
   "version": "3.9.13"
  }
 },
 "nbformat": 4,
 "nbformat_minor": 5
}
