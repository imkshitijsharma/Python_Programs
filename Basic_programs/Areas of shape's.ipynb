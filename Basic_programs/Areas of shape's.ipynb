{
 "cells": [
  {
   "cell_type": "markdown",
   "id": "698e407b",
   "metadata": {},
   "source": [
    "AREA OF RECTANGLE"
   ]
  },
  {
   "cell_type": "code",
   "execution_count": 4,
   "id": "e6626573",
   "metadata": {},
   "outputs": [
    {
     "name": "stdout",
     "output_type": "stream",
     "text": [
      "Enter the length of rectangle=10\n",
      "Enter the width of rectangle=15\n",
      "Area of rectangle = 150\n"
     ]
    }
   ],
   "source": [
    "length = int(input(\"Enter the length of rectangle=\"))\n",
    "width = int(input(\"Enter the width of rectangle=\"))\n",
    "Area = length*width \n",
    "print(\"Area of rectangle =\",Area)"
   ]
  },
  {
   "cell_type": "markdown",
   "id": "d253dd01",
   "metadata": {},
   "source": [
    "AREA OF SQUARE "
   ]
  },
  {
   "cell_type": "code",
   "execution_count": 7,
   "id": "3033053f",
   "metadata": {},
   "outputs": [
    {
     "name": "stdout",
     "output_type": "stream",
     "text": [
      "Enter the side value =5\n",
      "Area of square = 25\n"
     ]
    }
   ],
   "source": [
    "Side = int(input(\"Enter the side value =\"))\n",
    "Area = Side*Side\n",
    "print(\"Area of square =\",Area)"
   ]
  },
  {
   "cell_type": "markdown",
   "id": "81a7756d",
   "metadata": {},
   "source": [
    "AREA OF TRIANGLE"
   ]
  },
  {
   "cell_type": "code",
   "execution_count": 11,
   "id": "d12f9209",
   "metadata": {},
   "outputs": [
    {
     "name": "stdout",
     "output_type": "stream",
     "text": [
      "Enter the base of triangle=10\n",
      "Enter the height of triangle=15\n",
      "Area of triangle = 75.0\n"
     ]
    }
   ],
   "source": [
    "base = int(input(\"Enter the base of triangle=\"))\n",
    "height = int(input(\"Enter the height of triangle=\"))\n",
    "Area = 0.5*base*height\n",
    "print(\"Area of triangle =\",Area)"
   ]
  },
  {
   "cell_type": "markdown",
   "id": "0d3a9b9c",
   "metadata": {},
   "source": [
    "AREA OF CIRCLE "
   ]
  },
  {
   "cell_type": "code",
   "execution_count": 12,
   "id": "15bea619",
   "metadata": {},
   "outputs": [
    {
     "name": "stdout",
     "output_type": "stream",
     "text": [
      "Enter the radius of circle 5\n",
      "Area of circle  = 78.5\n"
     ]
    }
   ],
   "source": [
    "radius = int(input(\"Enter the radius of circle \"))\n",
    "Area = 3.14*radius*radius\n",
    "print(\"Area of circle  =\",Area)"
   ]
  },
  {
   "cell_type": "code",
   "execution_count": null,
   "id": "d6da0fd8",
   "metadata": {},
   "outputs": [],
   "source": []
  }
 ],
 "metadata": {
  "kernelspec": {
   "display_name": "Python 3 (ipykernel)",
   "language": "python",
   "name": "python3"
  },
  "language_info": {
   "codemirror_mode": {
    "name": "ipython",
    "version": 3
   },
   "file_extension": ".py",
   "mimetype": "text/x-python",
   "name": "python",
   "nbconvert_exporter": "python",
   "pygments_lexer": "ipython3",
   "version": "3.9.13"
  }
 },
 "nbformat": 4,
 "nbformat_minor": 5
}
