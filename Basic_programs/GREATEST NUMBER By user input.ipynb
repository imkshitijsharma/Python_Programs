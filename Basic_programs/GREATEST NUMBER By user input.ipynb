{
 "cells": [
  {
   "cell_type": "markdown",
   "id": "7bc70e44",
   "metadata": {},
   "source": [
    " program to print greatest number from 2 input's"
   ]
  },
  {
   "cell_type": "code",
   "execution_count": 1,
   "id": "2b5b99e9",
   "metadata": {},
   "outputs": [
    {
     "name": "stdout",
     "output_type": "stream",
     "text": [
      "Enter first number=5\n",
      "Enter second number=6\n",
      "Second number is greater= 6\n"
     ]
    }
   ],
   "source": [
    "numb1 = int(input(\"Enter first number=\"))\n",
    "numb2 = int(input(\"Enter second number=\"))\n",
    "if numb1 > numb2:\n",
    "    print(\"First number is greater=\",numb1)\n",
    "    \n",
    "elif numb2 > numb1:\n",
    "    print(\"Second number is greater=\",numb2)\n",
    "    \n",
    "else:\n",
    "    print(\"Numbers are equal\")\n"
   ]
  },
  {
   "cell_type": "markdown",
   "id": "e02be93b",
   "metadata": {},
   "source": [
    "program to find greatest number from three numbers"
   ]
  },
  {
   "cell_type": "code",
   "execution_count": 2,
   "id": "755570b1",
   "metadata": {},
   "outputs": [
    {
     "name": "stdout",
     "output_type": "stream",
     "text": [
      "Enter first number=6\n",
      "Enter second number=2\n",
      "Enter third number=2\n",
      "First number is greater= 6\n"
     ]
    }
   ],
   "source": [
    "numb1 = int(input(\"Enter first number=\"))\n",
    "numb2 = int(input(\"Enter second number=\"))\n",
    "numb3 = int(input(\"Enter third number=\"))\n",
    "if numb1 > numb2 and numb1 > numb3:\n",
    "    print(\"First number is greater=\",numb1)\n",
    "    \n",
    "elif numb2 > numb1 and numb2 >numb3:\n",
    "    print(\"Second number is greater=\",numb2)\n",
    "    \n",
    "elif numb3 > numb2 and numb3 >numb1:\n",
    "    print(\"Third Number is greater=\",numb3)\n",
    "elif numb3==numb1 or numb3  ==numb2 or numb2==numb1 or numb2==numb3 or numb1==numb2 or numb1==numb3:\n",
    "    print(\"two or more numbers are equal\")\n",
    "else :\n",
    "    print(\"enter correct number\")"
   ]
  },
  {
   "cell_type": "code",
   "execution_count": null,
   "id": "d7f03e92",
   "metadata": {},
   "outputs": [],
   "source": []
  }
 ],
 "metadata": {
  "kernelspec": {
   "display_name": "Python 3 (ipykernel)",
   "language": "python",
   "name": "python3"
  },
  "language_info": {
   "codemirror_mode": {
    "name": "ipython",
    "version": 3
   },
   "file_extension": ".py",
   "mimetype": "text/x-python",
   "name": "python",
   "nbconvert_exporter": "python",
   "pygments_lexer": "ipython3",
   "version": "3.9.13"
  }
 },
 "nbformat": 4,
 "nbformat_minor": 5
}
