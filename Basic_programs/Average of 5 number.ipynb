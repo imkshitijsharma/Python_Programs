{
 "cells": [
  {
   "cell_type": "markdown",
   "id": "a74ccb71",
   "metadata": {},
   "source": [
    "Program to average of five numbers :"
   ]
  },
  {
   "cell_type": "code",
   "execution_count": 5,
   "id": "41a7396e",
   "metadata": {},
   "outputs": [
    {
     "name": "stdout",
     "output_type": "stream",
     "text": [
      "Enter First number = 5.2\n",
      "Enter Second number = 6.1\n",
      "Enter Third number = 4.8\n",
      "Enter Fourth number = 45.6\n",
      "Enter Fifth number = 48.5\n",
      "Average of all numbers 71.4\n"
     ]
    }
   ],
   "source": [
    "num1=float(input(\"Enter First number = \"))\n",
    "num2=float(input(\"Enter Second number = \"))\n",
    "num3=float(input(\"Enter Third number = \"))\n",
    "num4=float(input(\"Enter Fourth number = \"))\n",
    "num5=float(input(\"Enter Fifth number = \"))\n",
    "average = num1+num2+num3+num4+num5/5\n",
    "print(\"Average of all numbers\",average)\n"
   ]
  },
  {
   "cell_type": "code",
   "execution_count": null,
   "id": "fadb6061",
   "metadata": {},
   "outputs": [],
   "source": []
  }
 ],
 "metadata": {
  "kernelspec": {
   "display_name": "Python 3 (ipykernel)",
   "language": "python",
   "name": "python3"
  },
  "language_info": {
   "codemirror_mode": {
    "name": "ipython",
    "version": 3
   },
   "file_extension": ".py",
   "mimetype": "text/x-python",
   "name": "python",
   "nbconvert_exporter": "python",
   "pygments_lexer": "ipython3",
   "version": "3.9.13"
  }
 },
 "nbformat": 4,
 "nbformat_minor": 5
}
