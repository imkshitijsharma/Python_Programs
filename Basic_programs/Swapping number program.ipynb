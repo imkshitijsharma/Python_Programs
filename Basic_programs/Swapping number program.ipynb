{
 "cells": [
  {
   "cell_type": "markdown",
   "id": "1fc4f466",
   "metadata": {},
   "source": [
    "# SWAPPING NUMBERS"
   ]
  },
  {
   "cell_type": "markdown",
   "id": "87c7b71a",
   "metadata": {},
   "source": [
    "BY USING THIRD VARIABLE"
   ]
  },
  {
   "cell_type": "code",
   "execution_count": 2,
   "id": "02b221b4",
   "metadata": {},
   "outputs": [
    {
     "name": "stdout",
     "output_type": "stream",
     "text": [
      "Enter your first number =15\n",
      "Enter your second number =26\n",
      "swapped first number 26\n",
      "swapped second number 15\n"
     ]
    }
   ],
   "source": [
    "num1=int(input(\"Enter your first number =\"))\n",
    "num2=int(input(\"Enter your second number =\"))\n",
    "num3=num1                 #### third variable num3 for swapping numbers\n",
    "num1=num2\n",
    "num2=num3\n",
    "print(\"Swapped first number\",num1)\n",
    "print(\"Swapped second number\",num2)"
   ]
  },
  {
   "cell_type": "markdown",
   "id": "75535c12",
   "metadata": {},
   "source": [
    "BY NO USE OF THIRD VARIABLE"
   ]
  },
  {
   "cell_type": "code",
   "execution_count": 4,
   "id": "40ca6449",
   "metadata": {},
   "outputs": [
    {
     "name": "stdout",
     "output_type": "stream",
     "text": [
      "Enter your first number =45\n",
      "Enter your second number =54\n",
      "Swapped first number 54\n",
      "Swapped second number 45\n"
     ]
    }
   ],
   "source": [
    "num1=int(input(\"Enter your first number =\"))\n",
    "num2=int(input(\"Enter your second number =\"))\n",
    "num1=num1+num2\n",
    "num2=num1-num2\n",
    "num1=num1-num2\n",
    "print(\"Swapped first number\",num1)\n",
    "print(\"Swapped second number\",num2)"
   ]
  },
  {
   "cell_type": "code",
   "execution_count": null,
   "id": "150a357d",
   "metadata": {},
   "outputs": [],
   "source": []
  }
 ],
 "metadata": {
  "kernelspec": {
   "display_name": "Python 3 (ipykernel)",
   "language": "python",
   "name": "python3"
  },
  "language_info": {
   "codemirror_mode": {
    "name": "ipython",
    "version": 3
   },
   "file_extension": ".py",
   "mimetype": "text/x-python",
   "name": "python",
   "nbconvert_exporter": "python",
   "pygments_lexer": "ipython3",
   "version": "3.9.13"
  }
 },
 "nbformat": 4,
 "nbformat_minor": 5
}
