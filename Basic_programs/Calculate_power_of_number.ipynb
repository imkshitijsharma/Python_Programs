{
 "cells": [
  {
   "cell_type": "markdown",
   "id": "d38692ba",
   "metadata": {},
   "source": [
    "CALCULATE POWER OF NUMBER"
   ]
  },
  {
   "cell_type": "code",
   "execution_count": 6,
   "id": "495cd017",
   "metadata": {},
   "outputs": [
    {
     "name": "stdout",
     "output_type": "stream",
     "text": [
      "Enter the base number 5\n",
      "Enter the exponent number5\n",
      "RESULT = 3125\n"
     ]
    }
   ],
   "source": [
    "num = int(input(\"Enter the base number \"))\n",
    "power = int(input(\"Enter the exponent number\"))\n",
    "result = num**power\n",
    "print(\"RESULT =\",result)"
   ]
  },
  {
   "cell_type": "code",
   "execution_count": null,
   "id": "a540725f",
   "metadata": {},
   "outputs": [],
   "source": []
  }
 ],
 "metadata": {
  "kernelspec": {
   "display_name": "Python 3 (ipykernel)",
   "language": "python",
   "name": "python3"
  },
  "language_info": {
   "codemirror_mode": {
    "name": "ipython",
    "version": 3
   },
   "file_extension": ".py",
   "mimetype": "text/x-python",
   "name": "python",
   "nbconvert_exporter": "python",
   "pygments_lexer": "ipython3",
   "version": "3.9.13"
  }
 },
 "nbformat": 4,
 "nbformat_minor": 5
}
