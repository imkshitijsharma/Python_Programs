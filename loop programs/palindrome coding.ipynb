{
 "cells": [
  {
   "cell_type": "markdown",
   "id": "bfa6d9dc",
   "metadata": {},
   "source": [
    "# Palindrome program \n"
   ]
  },
  {
   "cell_type": "markdown",
   "id": "dac974b1",
   "metadata": {},
   "source": [
    "BY using looping statements\n"
   ]
  },
  {
   "cell_type": "code",
   "execution_count": 8,
   "id": "54793234",
   "metadata": {},
   "outputs": [
    {
     "name": "stdout",
     "output_type": "stream",
     "text": [
      "Enter the number to check =65456\n",
      "Number is Palindrome\n",
      "THANK YOU\n"
     ]
    }
   ],
   "source": [
    "num = int(input(\"Enter the number to check =\"))\n",
    "num_str =str(num)\n",
    "while num >0:\n",
    "    result = num_str[::-1]\n",
    "    if result==num_str:\n",
    "        print(\"Number is Palindrome\")\n",
    "        break\n",
    "    else:\n",
    "        print(\"Number is not Palindrome\")\n",
    "        break\n",
    "else:\n",
    "    print(\"Enter number greater than zero\")\n",
    "        \n",
    "print(\"THANK YOU\")"
   ]
  },
  {
   "cell_type": "code",
   "execution_count": null,
   "id": "f6a5a2ea",
   "metadata": {},
   "outputs": [],
   "source": []
  }
 ],
 "metadata": {
  "kernelspec": {
   "display_name": "Python 3 (ipykernel)",
   "language": "python",
   "name": "python3"
  },
  "language_info": {
   "codemirror_mode": {
    "name": "ipython",
    "version": 3
   },
   "file_extension": ".py",
   "mimetype": "text/x-python",
   "name": "python",
   "nbconvert_exporter": "python",
   "pygments_lexer": "ipython3",
   "version": "3.9.13"
  }
 },
 "nbformat": 4,
 "nbformat_minor": 5
}
