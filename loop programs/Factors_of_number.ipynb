{
 "cells": [
  {
   "cell_type": "markdown",
   "id": "7c3f46ef",
   "metadata": {},
   "source": [
    "PROGRAM TO PRINT FACTORS OF NUMBER TO THE INPUT NUMBER"
   ]
  },
  {
   "cell_type": "code",
   "execution_count": 13,
   "id": "bb58eb94",
   "metadata": {},
   "outputs": [
    {
     "name": "stdout",
     "output_type": "stream",
     "text": [
      "Enter the number=12\n",
      "1 2 3 4 6 12 factorials of the number 12\n"
     ]
    }
   ],
   "source": [
    "n=int(input(\"Enter the number=\"))\n",
    "for i in range(1,n+1):\n",
    "    if n%i==0:\n",
    "        print( i, end=\" \")\n",
    "print(\"factorials of the number\",n)       \n"
   ]
  },
  {
   "cell_type": "code",
   "execution_count": null,
   "id": "edfd3a7c",
   "metadata": {},
   "outputs": [],
   "source": []
  }
 ],
 "metadata": {
  "kernelspec": {
   "display_name": "Python 3 (ipykernel)",
   "language": "python",
   "name": "python3"
  },
  "language_info": {
   "codemirror_mode": {
    "name": "ipython",
    "version": 3
   },
   "file_extension": ".py",
   "mimetype": "text/x-python",
   "name": "python",
   "nbconvert_exporter": "python",
   "pygments_lexer": "ipython3",
   "version": "3.9.13"
  }
 },
 "nbformat": 4,
 "nbformat_minor": 5
}
