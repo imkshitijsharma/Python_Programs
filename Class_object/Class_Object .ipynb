{
 "cells": [
  {
   "cell_type": "markdown",
   "id": "3172ef28",
   "metadata": {},
   "source": [
    "1.Create a class called Rectangle with attributes such as width and height.\n",
    "Define methods to calculate the area and perimeter of the rectangle"
   ]
  },
  {
   "cell_type": "code",
   "execution_count": 10,
   "id": "678ac75d",
   "metadata": {},
   "outputs": [],
   "source": [
    "class Rectangle:\n",
    "        def __init__(self,width,height):\n",
    "            self.width=width\n",
    "            self.height=height\n",
    "        def area(self):\n",
    "            print('Area of rectangle',self.width*self.height)\n",
    "        def perimeter(self):\n",
    "            per=2*(self.width+self.height)\n",
    "            print('Perimeter:',per)"
   ]
  },
  {
   "cell_type": "code",
   "execution_count": 11,
   "id": "f5282215",
   "metadata": {},
   "outputs": [
    {
     "name": "stdout",
     "output_type": "stream",
     "text": [
      "Area of rectangle 24\n"
     ]
    }
   ],
   "source": [
    "r1=Rectangle(4,6)\n",
    "r1.area()"
   ]
  },
  {
   "cell_type": "code",
   "execution_count": 12,
   "id": "6036b1be",
   "metadata": {},
   "outputs": [
    {
     "name": "stdout",
     "output_type": "stream",
     "text": [
      "Perimeter: 20\n"
     ]
    }
   ],
   "source": [
    "r1.perimeter()"
   ]
  },
  {
   "cell_type": "markdown",
   "id": "38f88864",
   "metadata": {},
   "source": [
    "2.Create a class called Circle with attributes such as radius.\n",
    "Definen methods to calculate the area and circumference of circle"
   ]
  },
  {
   "cell_type": "code",
   "execution_count": 16,
   "id": "e11103fc",
   "metadata": {},
   "outputs": [],
   "source": [
    "class Circle:\n",
    "    def __init__(self,radius):\n",
    "        self.rad=radius\n",
    "        print(\"Enter value of radius is \",self.rad)\n",
    "    def area(self):\n",
    "        a = 3.14*self.rad*self.rad\n",
    "        print(\"Area of circle \",a)\n",
    "    def circumference(self):\n",
    "        c= 2*3.14*self.rad\n",
    "        print(\"Circumference of circle\",c)"
   ]
  },
  {
   "cell_type": "code",
   "execution_count": 18,
   "id": "ae2df76b",
   "metadata": {},
   "outputs": [
    {
     "name": "stdout",
     "output_type": "stream",
     "text": [
      "Enter value of radius is  4\n",
      "Area of circle  50.24\n",
      "Circumference of circle 25.12\n"
     ]
    }
   ],
   "source": [
    "C=Circle(4)\n",
    "C.area()\n",
    "C.circumference()"
   ]
  },
  {
   "cell_type": "markdown",
   "id": "5af52c03",
   "metadata": {},
   "source": [
    "3.Create a class BankAccount with attribute such as balance and Interest_rate.\n",
    "Define methods to deposit,withdraw and calculate interest on the balance."
   ]
  },
  {
   "cell_type": "code",
   "execution_count": 63,
   "id": "b37149df",
   "metadata": {},
   "outputs": [],
   "source": [
    "class BankAccount:\n",
    "    def __init__(self,balance,Interest_rate):\n",
    "        self.blc=balance\n",
    "        self.Ir=Interest_rate\n",
    "        if self.Ir<1:\n",
    "            self.Ir=self.Ir\n",
    "        else:\n",
    "            self.Ir=self.Ir/100\n",
    "        print(\"Balance in account is  \",self.blc)\n",
    "        print(\"Total calculated Interest rate is \",self.Ir)\n",
    "    def deposit(self,depositss):\n",
    "        self.blc=self.blc+depositss\n",
    "        print(\"Total amount in account after deposit \",self.blc)\n",
    "    def withdraw(self,wdraw):\n",
    "        self.blc=self.blc-wdraw\n",
    "        print(\"Total amount after withdraw in account\",self.blc)\n",
    "    def Interest(self):\n",
    "        inter=self.blc*self.Ir\n",
    "        print(\"Total Interest in balance you earned\",inter)"
   ]
  },
  {
   "cell_type": "code",
   "execution_count": 61,
   "id": "c7a331f3",
   "metadata": {},
   "outputs": [
    {
     "name": "stdout",
     "output_type": "stream",
     "text": [
      "Balance in account is   1000\n",
      "Total calculated Interest rate is  0.15\n",
      "Total amount in account after deposit  1500\n",
      "Total amount after withdraw in account 1000\n",
      "Total Interest in balance you earned 150.0\n"
     ]
    }
   ],
   "source": [
    "B1=BankAccount(1000,15)\n",
    "B1.deposit(500)\n",
    "B1.withdraw(500)\n",
    "B1.Interest()"
   ]
  },
  {
   "cell_type": "markdown",
   "id": "c4dd40e7",
   "metadata": {},
   "source": [
    "4.create a class called person with attributes name,age and gender.Include a method called \n",
    "Introduce that prints out a message introducing the person with their name,age and gender"
   ]
  },
  {
   "cell_type": "code",
   "execution_count": 2,
   "id": "c3747e14",
   "metadata": {},
   "outputs": [],
   "source": [
    "class person:\n",
    "    def __init__(self,name,age,gender):\n",
    "        self.name=name\n",
    "        self.age=age\n",
    "        self.gender=gender\n",
    "    def Introduce(self):\n",
    "        print(\"Name of the person=\",self.name)\n",
    "        print(\"Age of the person=\",self.age)\n",
    "        print(\"Gender of the person=\",self.gender)"
   ]
  },
  {
   "cell_type": "code",
   "execution_count": 3,
   "id": "4829b1fa",
   "metadata": {},
   "outputs": [
    {
     "name": "stdout",
     "output_type": "stream",
     "text": [
      "Name of the person= Abhay\n",
      "Age of the person= 21\n",
      "Gender of the person= Male\n"
     ]
    }
   ],
   "source": [
    "p1=person('Abhay',21,'Male')\n",
    "p1.Introduce()"
   ]
  },
  {
   "cell_type": "markdown",
   "id": "644a41eb",
   "metadata": {},
   "source": [
    "5.create a class Vehicle with attributes make,model and year.Include a method called start_engine that prints out a message indicating that engine has started"
   ]
  },
  {
   "cell_type": "code",
   "execution_count": 7,
   "id": "efe4a85b",
   "metadata": {},
   "outputs": [],
   "source": [
    "class Vehicle:\n",
    "    def __init__(self,make,model,year):\n",
    "        self.make=make \n",
    "        self.model = model\n",
    "        self.year = year\n",
    "    def start_engine(self):\n",
    "        print(\"Engine started:\")\n",
    "        "
   ]
  },
  {
   "cell_type": "code",
   "execution_count": 8,
   "id": "98bb280d",
   "metadata": {},
   "outputs": [],
   "source": [
    "v=Vehicle(2012,'ev',2013)"
   ]
  },
  {
   "cell_type": "code",
   "execution_count": 9,
   "id": "002734d1",
   "metadata": {},
   "outputs": [
    {
     "name": "stdout",
     "output_type": "stream",
     "text": [
      "Engine started:\n"
     ]
    }
   ],
   "source": [
    "v.start_engine()"
   ]
  },
  {
   "cell_type": "code",
   "execution_count": null,
   "id": "f4b6bd13",
   "metadata": {},
   "outputs": [],
   "source": []
  }
 ],
 "metadata": {
  "kernelspec": {
   "display_name": "Python 3 (ipykernel)",
   "language": "python",
   "name": "python3"
  },
  "language_info": {
   "codemirror_mode": {
    "name": "ipython",
    "version": 3
   },
   "file_extension": ".py",
   "mimetype": "text/x-python",
   "name": "python",
   "nbconvert_exporter": "python",
   "pygments_lexer": "ipython3",
   "version": "3.9.13"
  }
 },
 "nbformat": 4,
 "nbformat_minor": 5
}
